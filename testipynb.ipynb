{
 "cells": [
  {
   "cell_type": "code",
   "execution_count": 1,
   "metadata": {},
   "outputs": [],
   "source": [
    "from douroucoulisay.douroucoulisay import douroucoulisay, tonal_hoot, gruff_hoot, whoop"
   ]
  },
  {
   "cell_type": "code",
   "execution_count": 2,
   "metadata": {},
   "outputs": [
    {
     "name": "stdout",
     "output_type": "stream",
     "text": [
      "\n",
      "  -----------\n",
      " < kokobongo >\n",
      "  -----------\n",
      "\n",
      "                                                 \n",
      "                    █████████████                \n",
      "                █████████████████████            \n",
      "            █████▓████████████████▓████          \n",
      "          ███▓▒█████████████████████▒▒███        \n",
      "        ███▒▓████████████████████████████████    \n",
      "     ███████████    ██████████   ████████▓▓████  \n",
      "    ███▓▓▓████▒      ███████▒      █████▓▓█▓▓██  \n",
      "   ███▓▓▓████         █████         █████▓▓▓▓██  \n",
      "   ██▓▓█████          █████          █████▓▓██   \n",
      "   ███▓████           ▒███            ████▓███   \n",
      "    ███████   ██  ███ █████  ██████    ███▓▓██   \n",
      "    ██████   █       ████████       █  ████▓██   \n",
      "    ▓█████  █   ███   █████    ███   █ ██████    \n",
      "     ██████ █   ███   █████▓   ██    █ ███▓██    \n",
      "      █████  █       ████████       █  █████     \n",
      "      ██████  ██████████████████████  ██████     \n",
      "       ██████       █████████░       ██████      \n",
      "        ██████      ██████████      ██████       \n",
      "         ██████ █████████████████▒ ▒██▓██        \n",
      "           ██▓█░  ██████████████   █████         \n",
      "            █████  ████████████   ████▒          \n",
      "             ▓████   ███████░   █████            \n",
      "               ░████          ████               \n",
      "                  █████████████                  \n",
      "                                                 \n",
      "\n"
     ]
    }
   ],
   "source": [
    "douroucoulisay(\"kokobongo\")"
   ]
  },
  {
   "cell_type": "code",
   "execution_count": 3,
   "metadata": {},
   "outputs": [],
   "source": [
    "tonal_hoot()"
   ]
  },
  {
   "cell_type": "code",
   "execution_count": 5,
   "metadata": {},
   "outputs": [],
   "source": [
    "gruff_hoot()"
   ]
  },
  {
   "cell_type": "code",
   "execution_count": 4,
   "metadata": {},
   "outputs": [],
   "source": [
    "whoop()"
   ]
  }
 ],
 "metadata": {
  "kernelspec": {
   "display_name": "douroucoulisay-env",
   "language": "python",
   "name": "python3"
  },
  "language_info": {
   "codemirror_mode": {
    "name": "ipython",
    "version": 3
   },
   "file_extension": ".py",
   "mimetype": "text/x-python",
   "name": "python",
   "nbconvert_exporter": "python",
   "pygments_lexer": "ipython3",
   "version": "3.11.5"
  }
 },
 "nbformat": 4,
 "nbformat_minor": 2
}
