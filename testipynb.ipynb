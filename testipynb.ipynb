{
 "cells": [
  {
   "cell_type": "code",
   "execution_count": 1,
   "metadata": {},
   "outputs": [],
   "source": [
    "from douroucoulisay.douroucoulisay import douroucoulisay, tonal_hoot, gruff_hoot, whoop"
   ]
  },
  {
   "cell_type": "code",
   "execution_count": 2,
   "metadata": {},
   "outputs": [
    {
     "name": "stdout",
     "output_type": "stream",
     "text": [
      "\n",
      "  ---------------\n",
      " < jnvksjnvkjsfv >\n",
      "  ---------------\n",
      "\n",
      "                                                 \n",
      "                    █████████████                \n",
      "                █████████████████████            \n",
      "            █████▓████████████████▓████          \n",
      "          ███▓▒█████████████████████▒▒███        \n",
      "        ███▒▓████████████████████████████████    \n",
      "     ███████████    ██████████   ████████▓▓████  \n",
      "    ███▓▓▓████▒      ███████▒      █████▓▓█▓▓██  \n",
      "   ███▓▓▓████         █████         █████▓▓▓▓██  \n",
      "   ██▓▓█████          █████          █████▓▓██   \n",
      "   ███▓████           ▒███            ████▓███   \n",
      "    ███████   ██  ███ █████  ██████    ███▓▓██   \n",
      "    ██████   █       ████████       █  ████▓██   \n",
      "    ▓█████  █   ███   █████    ███   █ ██████    \n",
      "     ██████ █   ███   █████▓   ██    █ ███▓██    \n",
      "      █████  █       ████████       █  █████     \n",
      "      ██████  ██████████████████████  ██████     \n",
      "       ██████       █████████░       ██████      \n",
      "        ██████      ██████████      ██████       \n",
      "         ██████ █████████████████▒ ▒██▓██        \n",
      "           ██▓█░  ██████████████   █████         \n",
      "            █████  ████████████   ████▒          \n",
      "             ▓████   ███████░   █████            \n",
      "               ░████          ████               \n",
      "                  █████████████                  \n",
      "                                                 \n",
      "\n"
     ]
    }
   ],
   "source": [
    "douroucoulisay(\"jnvksjnvkjsfv\")"
   ]
  },
  {
   "cell_type": "code",
   "execution_count": 3,
   "metadata": {},
   "outputs": [
    {
     "name": "stderr",
     "output_type": "stream",
     "text": [
      "Input #0, wav, from '/var/folders/67/nfkd5lvx0mv2l33mv6nvqzww0000gn/T/tmpvrp5j1b2.wav':\n",
      "  Duration: 00:00:01.60, bitrate: 1411 kb/s\n",
      "  Stream #0:0: Audio: pcm_s32le ([1][0][0][0] / 0x0001), 44100 Hz, 1 channels, s32, 1411 kb/s\n",
      "   1.53 M-A:  0.000 fd=   0 aq=    0KB vq=    0KB sq=    0B \r"
     ]
    },
    {
     "name": "stdout",
     "output_type": "stream",
     "text": [
      "\n"
     ]
    },
    {
     "name": "stderr",
     "output_type": "stream",
     "text": [
      "Input #0, wav, from '/var/folders/67/nfkd5lvx0mv2l33mv6nvqzww0000gn/T/tmp275z3ws0.wav':\n",
      "  Duration: 00:00:01.60, bitrate: 1411 kb/s\n",
      "  Stream #0:0: Audio: pcm_s32le ([1][0][0][0] / 0x0001), 44100 Hz, 1 channels, s32, 1411 kb/s\n",
      "   1.51 M-A:  0.000 fd=   0 aq=    0KB vq=    0KB sq=    0B \r"
     ]
    },
    {
     "name": "stdout",
     "output_type": "stream",
     "text": [
      "\n"
     ]
    }
   ],
   "source": [
    "tonal_hoot(2)"
   ]
  },
  {
   "cell_type": "code",
   "execution_count": 4,
   "metadata": {},
   "outputs": [
    {
     "name": "stderr",
     "output_type": "stream",
     "text": [
      "Input #0, wav, from '/var/folders/67/nfkd5lvx0mv2l33mv6nvqzww0000gn/T/tmpzefyfzz_.wav':\n",
      "  Duration: 00:00:00.69, bitrate: 1411 kb/s\n",
      "  Stream #0:0: Audio: pcm_s32le ([1][0][0][0] / 0x0001), 44100 Hz, 1 channels, s32, 1411 kb/s\n",
      "   0.62 M-A:  0.000 fd=   0 aq=    0KB vq=    0KB sq=    0B \r"
     ]
    },
    {
     "name": "stdout",
     "output_type": "stream",
     "text": [
      "\n"
     ]
    },
    {
     "name": "stderr",
     "output_type": "stream",
     "text": [
      "Input #0, wav, from '/var/folders/67/nfkd5lvx0mv2l33mv6nvqzww0000gn/T/tmpqznvaamz.wav':\n",
      "  Duration: 00:00:00.69, bitrate: 1411 kb/s\n",
      "  Stream #0:0: Audio: pcm_s32le ([1][0][0][0] / 0x0001), 44100 Hz, 1 channels, s32, 1411 kb/s\n",
      "   0.62 M-A:  0.000 fd=   0 aq=    0KB vq=    0KB sq=    0B \r"
     ]
    },
    {
     "name": "stdout",
     "output_type": "stream",
     "text": [
      "\n"
     ]
    },
    {
     "name": "stderr",
     "output_type": "stream",
     "text": [
      "Input #0, wav, from '/var/folders/67/nfkd5lvx0mv2l33mv6nvqzww0000gn/T/tmp34v3192t.wav':\n",
      "  Duration: 00:00:00.69, bitrate: 1411 kb/s\n",
      "  Stream #0:0: Audio: pcm_s32le ([1][0][0][0] / 0x0001), 44100 Hz, 1 channels, s32, 1411 kb/s\n",
      "   0.60 M-A:  0.000 fd=   0 aq=    0KB vq=    0KB sq=    0B \r"
     ]
    },
    {
     "name": "stdout",
     "output_type": "stream",
     "text": [
      "\n"
     ]
    }
   ],
   "source": [
    "gruff_hoot(3)"
   ]
  },
  {
   "cell_type": "code",
   "execution_count": 5,
   "metadata": {},
   "outputs": [
    {
     "name": "stderr",
     "output_type": "stream",
     "text": [
      "Input #0, wav, from '/var/folders/67/nfkd5lvx0mv2l33mv6nvqzww0000gn/T/tmpzv9rja6b.wav':\n",
      "  Duration: 00:00:05.00, bitrate: 1411 kb/s\n",
      "  Stream #0:0: Audio: pcm_s32le ([1][0][0][0] / 0x0001), 44100 Hz, 1 channels, s32, 1411 kb/s\n",
      "   4.86 M-A:  0.000 fd=   0 aq=    0KB vq=    0KB sq=    0B \r"
     ]
    },
    {
     "name": "stdout",
     "output_type": "stream",
     "text": [
      "\n"
     ]
    },
    {
     "name": "stderr",
     "output_type": "stream",
     "text": [
      "Input #0, wav, from '/var/folders/67/nfkd5lvx0mv2l33mv6nvqzww0000gn/T/tmpmv__u7ec.wav':\n",
      "  Duration: 00:00:05.00, bitrate: 1411 kb/s\n",
      "  Stream #0:0: Audio: pcm_s32le ([1][0][0][0] / 0x0001), 44100 Hz, 1 channels, s32, 1411 kb/s\n",
      "   4.88 M-A:  0.000 fd=   0 aq=    0KB vq=    0KB sq=    0B \r"
     ]
    },
    {
     "name": "stdout",
     "output_type": "stream",
     "text": [
      "\n"
     ]
    }
   ],
   "source": [
    "whoop(2)"
   ]
  }
 ],
 "metadata": {
  "kernelspec": {
   "display_name": "base",
   "language": "python",
   "name": "python3"
  },
  "language_info": {
   "codemirror_mode": {
    "name": "ipython",
    "version": 3
   },
   "file_extension": ".py",
   "mimetype": "text/x-python",
   "name": "python",
   "nbconvert_exporter": "python",
   "pygments_lexer": "ipython3",
   "version": "3.11.5"
  }
 },
 "nbformat": 4,
 "nbformat_minor": 2
}
